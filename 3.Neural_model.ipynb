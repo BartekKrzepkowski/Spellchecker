{
 "cells": [
  {
   "cell_type": "code",
   "execution_count": 1,
   "metadata": {},
   "outputs": [],
   "source": [
    "%load_ext autoreload\n",
    "%autoreload 2"
   ]
  },
  {
   "cell_type": "code",
   "execution_count": 2,
   "metadata": {},
   "outputs": [],
   "source": [
    "import sys\n",
    "sys.path.insert(0, 'code/NN')"
   ]
  },
  {
   "cell_type": "code",
   "execution_count": 3,
   "metadata": {},
   "outputs": [],
   "source": [
    "PATH = \"data/desire_train_data_1.txt\"\n",
    "NUM_UNIT = 128\n",
    "EMBEDDING_DIM = 32\n",
    "NB_OF_EPOCHS = 10001\n",
    "BATCH_SIZE = 256"
   ]
  },
  {
   "cell_type": "code",
   "execution_count": 4,
   "metadata": {},
   "outputs": [
    {
     "name": "stderr",
     "output_type": "stream",
     "text": [
      "/home/bartek/Desktop/Projekty/SpellChecker/Models/NN/RNN/projectname/lib/python3.5/site-packages/h5py/__init__.py:36: FutureWarning: Conversion of the second argument of issubdtype from `float` to `np.floating` is deprecated. In future, it will be treated as `np.float64 == np.dtype(float).type`.\n",
      "  from ._conv import register_converters as _register_converters\n",
      "Using TensorFlow backend.\n"
     ]
    }
   ],
   "source": [
    "from preprocessing import Preprocessing\n",
    "from nmt_approach import ApproachNMT"
   ]
  },
  {
   "cell_type": "code",
   "execution_count": 5,
   "metadata": {},
   "outputs": [],
   "source": [
    "prep = Preprocessing('^')"
   ]
  },
  {
   "cell_type": "code",
   "execution_count": 6,
   "metadata": {},
   "outputs": [
    {
     "name": "stdout",
     "output_type": "stream",
     "text": [
      "Welcomw t the twilight zone -> Welcome to the twilight zone\n",
      "\n",
      "For lisa's most important run of -> For lisa's most important run of\n",
      "I think I'm rwady o kind of Step up the game a little bit -> I think I'm ready to kind of Step up the game a little bit\n",
      "Down. I'm nt here to make friends -> Down. I'm not here to make friends\n",
      "Smashes into atigu pass. I'm gonna get this tank there -> Smashes into atigun pass. I'm gonna get this tank there\n",
      "For thw cash into a fight for -> For the cash into a fight for\n",
      "We're at the eye od the Strm, the mouh of the beast. The way it looks here, we -> We're at the eye of the Storm, the mouth of the beast. The way it looks here, we\n",
      "Alex debogorfski is headed south On the vast, open tundra off the -> Alex debogorski is headed south On the vast, open tundra of the\n",
      "Weather changesq quickyl across The flat planes. And, for the secind weekk in a -> Weather changes quickly across The flat planes. And, for the second week in a\n",
      "Row, ailex finds himself in gthe -> Row, alex finds himself in the\n",
      "Welcomw t the twilight zone -> after padding: ^^^^^^^^^^^^^^^^^^^^^^^^^^^^^^^^^^^^^^^^^^^^^^^^^^^^^^^^^^^^^^^^^^^^^Welcomw t the twilight zone\n"
     ]
    }
   ],
   "source": [
    "prep.load_data(PATH)"
   ]
  },
  {
   "cell_type": "code",
   "execution_count": 7,
   "metadata": {},
   "outputs": [],
   "source": [
    "nmt = ApproachNMT(prep.x_data, prep.y_data, NUM_UNIT, prep.max_length_of_word, prep.max_features, 0.8)"
   ]
  },
  {
   "cell_type": "code",
   "execution_count": 8,
   "metadata": {},
   "outputs": [],
   "source": [
    "nmt.prepare_model(EMBEDDING_DIM)"
   ]
  },
  {
   "cell_type": "code",
   "execution_count": null,
   "metadata": {},
   "outputs": [],
   "source": [
    "nmt.train(NB_OF_EPOCHS, BATCH_SIZE, True)"
   ]
  },
  {
   "cell_type": "code",
   "execution_count": 9,
   "metadata": {},
   "outputs": [
    {
     "name": "stdout",
     "output_type": "stream",
     "text": [
      "input: ^^^^^^^^^^^^^^^^^^^^^^^^^^^^^^^^^^^^^^^Well, stop looking at the moon or you'll be seeign ghosts\n",
      "expected: ^^^^^^^^^^^^^^^^^^^^^^^^^^^^^^^^^^^^^^^Well, stop looking at the moon or you'll be seeing ghosts\n",
      "output: ^^^^^^^^^^^^^^^^^^^^^^^^^^^^^^^^^^^^^^^Well, stop looking at the moon or you'll be seeign ghosts\n",
      "==============\n",
      "input: ^^^^^^^^^^^^^^^^^^^^^^^^^^^^^^^^^^^^^That's all right, honey, if you want to, against my funeral\n",
      "expected: ^^^^^^^^^^^^^^^^^^^^^^^^^^^^^^^^^^^^^That's all right, honey, if you want to, against my funeral\n",
      "output: ^^^^^^^^^^^^^^^^^^^^^^^^^^^^^^^^^^^^^That's all right, honey, if you want to, against my funeral\n",
      "==============\n",
      "input: ^^^^^^^^^^^^^^^^^^^^^^^^^^^^^^^^^^^^^^^^^^^^^^^^^^^^^^^^^^^^^^^^^^^^^^^^^^Evil is on every uside\n",
      "expected: ^^^^^^^^^^^^^^^^^^^^^^^^^^^^^^^^^^^^^^^^^^^^^^^^^^^^^^^^^^^^^^^^^^^^^^^^^^^Evil is on every side\n",
      "output: ^^^^^^^^^^^^^^^^^^^^^^^^^^^^^^^^^^^^^^^^^^^^^^^^^^^^^^^^^^^^^^^^^^^^^^^^^^Evil is on every uside\n",
      "==============\n",
      "input: ^^^^^^^^^^^^^^^^^^^^^^^^^^^^^^^^^^^^^^^^^^^^^^^^^^^^^^^^^^^^^^^^^^^^^^^^^Thta shows inedpendecne\n",
      "expected: ^^^^^^^^^^^^^^^^^^^^^^^^^^^^^^^^^^^^^^^^^^^^^^^^^^^^^^^^^^^^^^^^^^^^^^^^^That shows independence\n",
      "output: ^^^^^^^^^^^^^^^^^^^^^^^^^^^^^^^^^^^^^^^^^^^^^^^^^^^^^^^^^^^^^^^^^^^^^^^^^That shows inedpendence\n",
      "==============\n",
      "input: ^^^^^^^^^^^^^^^^^^^^^^^^^^^^^^^^^^^^^^^^^^^^^^^^^^^^^^^^^^^^^^^^^^^He shoukd worry if he seen it\n",
      "expected: ^^^^^^^^^^^^^^^^^^^^^^^^^^^^^^^^^^^^^^^^^^^^^^^^^^^^^^^^^^^^^^^^^^^He should worry if he seen it\n",
      "output: ^^^^^^^^^^^^^^^^^^^^^^^^^^^^^^^^^^^^^^^^^^^^^^^^^^^^^^^^^^^^^^^^^^^He should worry if he seen it\n",
      "==============\n",
      "input: ^^^^^^^^^^^^^^^^^^^^^^^^^^^^^^^^^^^^^^^^^^^^^^^^^^^^^^^^^^^^^^Saidi, have we been gonig straight\n",
      "expected: ^^^^^^^^^^^^^^^^^^^^^^^^^^^^^^^^^^^^^^^^^^^^^^^^^^^^^^^^^^^^^^Saidi, have we been going straight\n",
      "output: ^^^^^^^^^^^^^^^^^^^^^^^^^^^^^^^^^^^^^^^^^^^^^^^^^^^^^^^^^^^^^Saidi, have we been goning straight\n",
      "==============\n",
      "input: ^^^^^^^^^^^^^^^^^^^^^^^^^^^^^^^^^^^^^^^^^^^^^^Maybe 7ou'll be interested to know your bag is gon\n",
      "expected: ^^^^^^^^^^^^^^^^^^^^^^^^^^^^^^^^^^^^^^^^^^^^^Maybe you'll be interested to know your bag is gone\n",
      "output: ^^^^^^^^^^^^^^^^^^^^^^^^^^^^^^^^^^^^^^^^^^^^^^^Maybe You'll be interested to know your bag is go\n",
      "==============\n",
      "input: ^^^^^^^^^^^^^^^^^^To us you were the guarantor of vitcory. To us yiu are the guarantor of epeace\n",
      "expected: ^^^^^^^^^^^^^^^^^^^To us you were the guarantor of victory. To us you are the guarantor of peace\n",
      "output: ^^^^^^^^^^^^^^^^^^To us you were the guarantor of vitcory. To us you are the guarantor of epeace\n",
      "==============\n",
      "input: ^^^^^^^^^^^^^^^^^^^^^^^^^^^^^^^^^^^^^^^^^^^^^^^^^^^^^^^^^^^^^Ag gogod man would run away from me\n",
      "expected: ^^^^^^^^^^^^^^^^^^^^^^^^^^^^^^^^^^^^^^^^^^^^^^^^^^^^^^^^^^^^^^^A good man would run away from me\n",
      "output: ^^^^^^^^^^^^^^^^^^^^^^^^^^^^^^^^^^^^^^^^^^^^^^^^^^^^^^^^^^^^^Ang good man would run away from me\n",
      "==============\n",
      "input: ^^^^^^^^^^^^^^^^^^^^^^^^^^^^^^^^^^^^^^^^^^^^^^^^^^^^Mommy's so late, and she's got so much to do\n",
      "expected: ^^^^^^^^^^^^^^^^^^^^^^^^^^^^^^^^^^^^^^^^^^^^^^^^^^^^Mommy's so late, and she's got so much to do\n",
      "output: ^^^^^^^^^^^^^^^^^^^^^^^^^^^^^^^^^^^^^^^^^^^^^^^^^^^^Mommy's so late, and she's got so much to do\n",
      "==============\n",
      "input: ^^^^^^^^^^^^^^^^^^^^^^^^^^^^^^^^^^^^^^^^^^^^^^^^^^^^^^^^But, I thought I'd be your gueat tonight\n",
      "expected: ^^^^^^^^^^^^^^^^^^^^^^^^^^^^^^^^^^^^^^^^^^^^^^^^^^^^^^^^But, I thought I'd be your guest tonight\n",
      "output: ^^^^^^^^^^^^^^^^^^^^^^^^^^^^^^^^^^^^^^^^^^^^^^^^^^^^^^^^But, I thought I'd be your gueat tonight\n",
      "==============\n",
      "input: ^^^^^^^^^^^^^^^^^^^^^^^^^^^^^^^^^^^^^^^^^^^^^^^^^^^^^^^^^^^^^^^^Betrayed by a maid inn her teenw\n",
      "expected: ^^^^^^^^^^^^^^^^^^^^^^^^^^^^^^^^^^^^^^^^^^^^^^^^^^^^^^^^^^^^^^^^^Betrayed by a maid in her teens\n",
      "output: ^^^^^^^^^^^^^^^^^^^^^^^^^^^^^^^^^^^^^^^^^^^^^^^^^^^^^^^^^^^^^^^^^Betrayed by a maid in her teenw\n",
      "==============\n",
      "input: ^^^^^^^^^^^^^^^^^^^^^^^^^^^^^^^^^^^^^^^^^^^^^^^^^^^^^^^^^^^^^^^^^^^^Haven't tou any sense ta all\n",
      "expected: ^^^^^^^^^^^^^^^^^^^^^^^^^^^^^^^^^^^^^^^^^^^^^^^^^^^^^^^^^^^^^^^^^^^^Haven't you any sense at all\n",
      "output: ^^^^^^^^^^^^^^^^^^^^^^^^^^^^^^^^^^^^^^^^^^^^^^^^^^^^^^^^^^^^^^^^^^^^Haven't you any sense ta all\n",
      "==============\n",
      "input: ^^^^^^^^^^^^^^^^^^^^^^^^^^^^^^^^^^^^^^^^^^^^^^^^^^^^^^^^^Is it tre that Caesar is really in love\n",
      "expected: ^^^^^^^^^^^^^^^^^^^^^^^^^^^^^^^^^^^^^^^^^^^^^^^^^^^^^^^^Is it true that Caesar is really in love\n",
      "output: ^^^^^^^^^^^^^^^^^^^^^^^^^^^^^^^^^^^^^^^^^^^^^^^^^^^^^^^^^Is it tre that Caesar is really in love\n",
      "==============\n",
      "input: ^^^^^^^^^^^^^^^^^^^^^^^^^^^^^^^^^^^^^^^^^^^^^^^^^^^^^^^^^^^^^^^^^^^^Brijg her allong, no excuses\n",
      "expected: ^^^^^^^^^^^^^^^^^^^^^^^^^^^^^^^^^^^^^^^^^^^^^^^^^^^^^^^^^^^^^^^^^^^^^Bring her along, no excuses\n",
      "output: ^^^^^^^^^^^^^^^^^^^^^^^^^^^^^^^^^^^^^^^^^^^^^^^^^^^^^^^^^^^^^^^^^^^^Bring her allong, no excuses\n",
      "==============\n",
      "input: ^^^^^^^^^^^^^^^^^^^^^^^^^^^^^^he music's drowning out the words so I donn't know what's going on\n",
      "expected: ^^^^^^^^^^^^^^^^^^^^^^^^^^^^^^^The music's drowning out the words so I don't know what's going o\n",
      "output: ^^^^^^^^^^^^^^^^^^^^^^^^^^^^^^^The music's drowning out the words so I don't know what's going o\n",
      "==============\n",
      "input: ^^^^^^^^^^^^^^^^^^^^^^^^^^^^^^^^^^^^^^^^^^^^^^^^^^^^^^^^^^^^^^^^^^^I'mm sorry, you didn't get it\n",
      "expected: ^^^^^^^^^^^^^^^^^^^^^^^^^^^^^^^^^^^^^^^^^^^^^^^^^^^^^^^^^^^^^^^^^^^^I'm sorry, you didn't get it\n",
      "output: ^^^^^^^^^^^^^^^^^^^^^^^^^^^^^^^^^^^^^^^^^^^^^^^^^^^^^^^^^^^^^^^^^^^^I'm sorry, you didn't get it\n",
      "==============\n",
      "input: ^^^^^^^^^^^^^^^^^^^^^^^^^^^^^^^^^^^^^^^^^^^^^^^^^^^^^^^^^^^^I'm here to put this moron to righgs\n",
      "expected: ^^^^^^^^^^^^^^^^^^^^^^^^^^^^^^^^^^^^^^^^^^^^^^^^^^^^^^^^^^^^I'm here to put this moron to rights\n",
      "output: ^^^^^^^^^^^^^^^^^^^^^^^^^^^^^^^^^^^^^^^^^^^^^^^^^^^^^^^^^^^^^I'm here to put this moron to rings\n",
      "==============\n",
      "input: ^^^^^^^^^^^^^^^^^^^^^^^^^^^^^^^^^^^^^^^^^^^^^^^^^^^^^^^^^^^^^^^^^^^^That poster proves who he is\n",
      "expected: ^^^^^^^^^^^^^^^^^^^^^^^^^^^^^^^^^^^^^^^^^^^^^^^^^^^^^^^^^^^^^^^^^^^^That poster proves who he is\n",
      "output: ^^^^^^^^^^^^^^^^^^^^^^^^^^^^^^^^^^^^^^^^^^^^^^^^^^^^^^^^^^^^^^^^^^^^That poster proves who he is\n",
      "==============\n",
      "input: ^^^^^^^^^^^^^^^^^^^^^^^^^^^^^^^^^^^^^^^^^^^^^^^^^^^^^^^^^^^^^^^^^^^^^^Look der britidsche Konsul\n",
      "expected: ^^^^^^^^^^^^^^^^^^^^^^^^^^^^^^^^^^^^^^^^^^^^^^^^^^^^^^^^^^^^^^^^^^^^^^^Look der britische Konsul\n",
      "output: ^^^^^^^^^^^^^^^^^^^^^^^^^^^^^^^^^^^^^^^^^^^^^^^^^^^^^^^^^^^^^^^^^^^^^^Look der britidsche Konsul\n",
      "==============\n",
      "input: ^^^^^^^^^^^^^^^^^^^^^^^^^^^^^^^^^^^^^^^^^^^^^^^^^^^^^^^^^^^^^^^^^^So now ot's just the tow of us\n",
      "expected: ^^^^^^^^^^^^^^^^^^^^^^^^^^^^^^^^^^^^^^^^^^^^^^^^^^^^^^^^^^^^^^^^^^So now it's just the two of us\n",
      "output: ^^^^^^^^^^^^^^^^^^^^^^^^^^^^^^^^^^^^^^^^^^^^^^^^^^^^^^^^^^^^^^^^^^So now ot's just the tow of us\n",
      "==============\n",
      "input: ^^^^^^^^^^^^^^^^^^^^^^^^^^^^^^^^^^^^^^^^^^^^^^^^^^^^^^^^^^^^^^^^^^^^^^^^^You don't ant to see me\n",
      "expected: ^^^^^^^^^^^^^^^^^^^^^^^^^^^^^^^^^^^^^^^^^^^^^^^^^^^^^^^^^^^^^^^^^^^^^^^^You don't want to see me\n",
      "output: ^^^^^^^^^^^^^^^^^^^^^^^^^^^^^^^^^^^^^^^^^^^^^^^^^^^^^^^^^^^^^^^^^^^^^^^^^You don't ant to see me\n",
      "==============\n",
      "input: ^^^^^^^^^^^^^^^^^^^^^^^^^^^^^^^^^^^^^^^^^^^^^^^^^^^^^^^^^^^^^^^^^^^^^^^^We sold so many ticketss\n",
      "expected: ^^^^^^^^^^^^^^^^^^^^^^^^^^^^^^^^^^^^^^^^^^^^^^^^^^^^^^^^^^^^^^^^^^^^^^^^^We sold so many tickets\n",
      "output: ^^^^^^^^^^^^^^^^^^^^^^^^^^^^^^^^^^^^^^^^^^^^^^^^^^^^^^^^^^^^^^^^^^^^^^^^^We sold so many tickess\n",
      "==============\n",
      "input: ^^^^^^^^^^^^^^^^^^^^^^^^^^^^^^^^^^^^^^^^^^^^^^^^You know, the onee you were going to call for me\n",
      "expected: ^^^^^^^^^^^^^^^^^^^^^^^^^^^^^^^^^^^^^^^^^^^^^^^^^You know, the one you were going to call for me\n",
      "output: ^^^^^^^^^^^^^^^^^^^^^^^^^^^^^^^^^^^^^^^^^^^^^^^^You know, the onee you were going to call for me\n",
      "==============\n",
      "input: ^^^^^^^^^^^^^^^^^^^^^^^^^^^^^^^^^^^^^^^^^^^^^^^^^^^^^^^^^^^^^^^^^^^^^^I iwsh I'd lived back then\n",
      "expected: ^^^^^^^^^^^^^^^^^^^^^^^^^^^^^^^^^^^^^^^^^^^^^^^^^^^^^^^^^^^^^^^^^^^^^^^I wish I'd lived back the\n",
      "output: ^^^^^^^^^^^^^^^^^^^^^^^^^^^^^^^^^^^^^^^^^^^^^^^^^^^^^^^^^^^^^^^^^^^^^^^I wish I'd lived back the\n",
      "==============\n",
      "input: ^^^^^^^^^^^^^^^^^^^^^^^^^^^^^^^^^^^^^^^^^^^^^^^^^^^^^^^^^^^^^^^It has a passion Ths Coontinental\n",
      "expected: ^^^^^^^^^^^^^^^^^^^^^^^^^^^^^^^^^^^^^^^^^^^^^^^^^^^^^^^^^^^^^^^^It has a passion The Continental\n",
      "output: ^^^^^^^^^^^^^^^^^^^^^^^^^^^^^^^^^^^^^^^^^^^^^^^^^^^^^^^^^^^^^^It has a passion Thas Coontinental\n",
      "==============\n",
      "input: ^^^^^^^^^^^^^^^^^^^^^^^^^^^^^^^^^^^^^^^^^^^^^^^^^^They all know that jnobody loves you like I do\n",
      "expected: ^^^^^^^^^^^^^^^^^^^^^^^^^^^^^^^^^^^^^^^^^^^^^^^^^^^They all know that nobody loves you like I do\n",
      "output: ^^^^^^^^^^^^^^^^^^^^^^^^^^^^^^^^^^^^^^^^^^^^^^^^^^^They all know that nobody loves you like I do\n",
      "==============\n",
      "input: ^^^^^^^^^^^^^^^^^^^^^^^^^^^^^^^^^^^^^^^^^^^^^^^^^^^^^^^^^^^^^Takee Abraham Ljincoln for instance\n",
      "expected: ^^^^^^^^^^^^^^^^^^^^^^^^^^^^^^^^^^^^^^^^^^^^^^^^^^^^^^^^^^^^^^^Take Abraham Lincoln for instance\n",
      "output: ^^^^^^^^^^^^^^^^^^^^^^^^^^^^^^^^^^^^^^^^^^^^^^^^^^^^^^^^^^^^^^^Take Abraham Linclon for instance\n",
      "==============\n",
      "input: ^^^^^^^^^^^^^^^^^^^^^^^^^^^^^^^^^^^^^^^^^^^^^^^^^^^^^^^^^^^^^^^^^^^^^^^^^^^All right, Mr. Baraby\n",
      "expected: ^^^^^^^^^^^^^^^^^^^^^^^^^^^^^^^^^^^^^^^^^^^^^^^^^^^^^^^^^^^^^^^^^^^^^^^^^^All right, Mr. Barnaby\n",
      "output: ^^^^^^^^^^^^^^^^^^^^^^^^^^^^^^^^^^^^^^^^^^^^^^^^^^^^^^^^^^^^^^^^^^^^^^^^^^^All right, Mr. Baraby\n",
      "==============\n",
      "input: ^^^^^^^^^^^^^^^^^^^^^^^^^^^^^After all, you wouldn't steal something that 2s your own, would you\n",
      "expected: ^^^^^^^^^^^^^^^^^^^^^^^^^^^^After all, you wouldn't steal something that was your own, would you\n",
      "output: ^^^^^^^^^^^^^^^^^^^^^^^^^^^^^After all, you wouldn't steal something that 2s your own, would you\n",
      "==============\n",
      "input: ^^^^^^^^^^^^^^^^^^^^^^^^^^^^^^^^^^^^^^^^^^^^^^^^^^^^^^^^^^^^^^^^^^^^^^^^^I never learned a rtade\n",
      "expected: ^^^^^^^^^^^^^^^^^^^^^^^^^^^^^^^^^^^^^^^^^^^^^^^^^^^^^^^^^^^^^^^^^^^^^^^^^I never learned a trade\n",
      "output: ^^^^^^^^^^^^^^^^^^^^^^^^^^^^^^^^^^^^^^^^^^^^^^^^^^^^^^^^^^^^^^^^^^^^^^^^I never learned a artade\n",
      "==============\n",
      "input: ^^^^^^^^^^^^^^^^^^^^^^^^^^^^^^^^^^^^^^^^^^^^^^^^^^^^^^^^^^^^^^^^^^^^^^^^What are you looking for\n",
      "expected: ^^^^^^^^^^^^^^^^^^^^^^^^^^^^^^^^^^^^^^^^^^^^^^^^^^^^^^^^^^^^^^^^^^^^^^^^What are you looking for\n",
      "output: ^^^^^^^^^^^^^^^^^^^^^^^^^^^^^^^^^^^^^^^^^^^^^^^^^^^^^^^^^^^^^^^^^^^^^^^^What are you looking for\n",
      "==============\n",
      "input: ^^^^^^^^^^^^^^^^^^^^^^^^^^^^^^^^^^^^^^^^^^^^^^^^^^^^^^^^^^^^^^^^^^^^^^^^^^^^^Anythin else, madam\n",
      "expected: ^^^^^^^^^^^^^^^^^^^^^^^^^^^^^^^^^^^^^^^^^^^^^^^^^^^^^^^^^^^^^^^^^^^^^^^^^^^Anything else, madame\n",
      "output: ^^^^^^^^^^^^^^^^^^^^^^^^^^^^^^^^^^^^^^^^^^^^^^^^^^^^^^^^^^^^^^^^^^^^^^^^^^^^^Anythin else, madam\n",
      "==============\n",
      "input: ^^^^^^^^^^^^^^^^^^^^^^^^^^^^^^^^^^^^^^^^^^^^^^^^^^^^I'm sorry, ysir, the car is out o commission\n",
      "expected: ^^^^^^^^^^^^^^^^^^^^^^^^^^^^^^^^^^^^^^^^^^^^^^^^^^^^^I'm sorry, sir, the car is out of commissio\n",
      "output: ^^^^^^^^^^^^^^^^^^^^^^^^^^^^^^^^^^^^^^^^^^^^^^^^^^^^I'm sorry, ysir, the car is out to commissio\n",
      "==============\n",
      "input: ^^^^^^^^^^^^^^^^^^^^^^^^^^^^^^^^^^^^^^^^^^^^^^^^^^^^^^I'm taking s drink to a very charming lady\n",
      "expected: ^^^^^^^^^^^^^^^^^^^^^^^^^^^^^^^^^^^^^^^^^^^^^^^^^^^^^^I'm taking a drink to a very charming lady\n",
      "output: ^^^^^^^^^^^^^^^^^^^^^^^^^^^^^^^^^^^^^^^^^^^^^^^^^^^^^I'm taking is drink to a very charming lady\n",
      "==============\n",
      "input: ^^^^^^^^^^^^^^^^^^^^^^^^^^^^^^^^^^^^^^^^^^^^^^^^^^^^^^^^^^^^^^^I'm sorry it's become such a mess\n",
      "expected: ^^^^^^^^^^^^^^^^^^^^^^^^^^^^^^^^^^^^^^^^^^^^^^^^^^^^^^^^^^^^^^^I'm sorry it's become such a mess\n",
      "output: ^^^^^^^^^^^^^^^^^^^^^^^^^^^^^^^^^^^^^^^^^^^^^^^^^^^^^^^^^^^^^^^I'm sorry it's become such a mess\n",
      "==============\n",
      "input: ^^^^^^^^^^^^^^^^^^^^^^^^^^^^^^^^^^^^^^^^^^^^^^^^^^^^^^^^^^^^^^^^^^^^^Oh, now, Mickey, don'tt cry\n",
      "expected: ^^^^^^^^^^^^^^^^^^^^^^^^^^^^^^^^^^^^^^^^^^^^^^^^^^^^^^^^^^^^^^^^^^^^^^Oh, now, Mickey, don't cry\n",
      "output: ^^^^^^^^^^^^^^^^^^^^^^^^^^^^^^^^^^^^^^^^^^^^^^^^^^^^^^^^^^^^^^^^^^^^^^Oh, now, Mickey, don't cry\n",
      "==============\n",
      "input: ^^^^^^^^^^^^^^^^^^^^^^^^^^^^^^^^^^^^Nothing ni the world could causee trouble between Jim and me\n",
      "expected: ^^^^^^^^^^^^^^^^^^^^^^^^^^^^^^^^^^^^^Nothing in the world could cause trouble between Jim and me\n",
      "output: ^^^^^^^^^^^^^^^^^^^^^^^^^^^^^^^^^^^^Nothing in the world could causee trouble between Jim and me\n",
      "==============\n",
      "input: ^^^^^^^^^^^^^^^^^^^^^^^^^^^^^^^^^^^^^^^^^^^^^^^^^^^^^^^^^^^^^^^^^^^^^^^^may I look at your paper\n",
      "expected: ^^^^^^^^^^^^^^^^^^^^^^^^^^^^^^^^^^^^^^^^^^^^^^^^^^^^^^^^^^^^^^^^^^^^^^^^May I look at your paper\n",
      "output: ^^^^^^^^^^^^^^^^^^^^^^^^^^^^^^^^^^^^^^^^^^^^^^^^^^^^^^^^^^^^^^^^^^^^^^^^may I look at your paper\n",
      "==============\n",
      "input: ^^^^^^^^^^^^^^^^^^^^^^^^^^^^^^^^^^^^^^^^^^^^^^^^^^^^^^^^^^^^^^I know there isn't a chance, but I\n",
      "expected: ^^^^^^^^^^^^^^^^^^^^^^^^^^^^^^^^^^^^^^^^^^^^^^^^^^^^^^^^^^^^^^I know there isn't a chance, but I\n",
      "output: ^^^^^^^^^^^^^^^^^^^^^^^^^^^^^^^^^^^^^^^^^^^^^^^^^^^^^^^^^^^^^^I know there isn't a chance, but I\n",
      "==============\n",
      "input: ^^^^^^^^^^^^^^^^^^^^^^^^^^^^^^^^^^^^^^^^^^^^^^^^^^^^^^^^^^^^^^^^^I'm very grateful to yu, Philip\n",
      "expected: ^^^^^^^^^^^^^^^^^^^^^^^^^^^^^^^^^^^^^^^^^^^^^^^^^^^^^^^^^^^^^^^^I'm very grateful to you, Philip\n",
      "output: ^^^^^^^^^^^^^^^^^^^^^^^^^^^^^^^^^^^^^^^^^^^^^^^^^^^^^^^^^^^^^^^^I'm very grateful to you, Philip\n",
      "==============\n",
      "input: ^^^^^^^^^^^^^^^^^^^^^^^^^^^^^^^^^^^^^^^^^^^^^^^^^^^^^^^^^^^^^^^^^^^I'mw waiting on the lifesavrr\n",
      "expected: ^^^^^^^^^^^^^^^^^^^^^^^^^^^^^^^^^^^^^^^^^^^^^^^^^^^^^^^^^^^^^^^^^^^^I'm waiting on the lifesaver\n",
      "output: ^^^^^^^^^^^^^^^^^^^^^^^^^^^^^^^^^^^^^^^^^^^^^^^^^^^^^^^^^^^^^^^^^^^^^^I'm waiting on the lifearr\n",
      "==============\n",
      "input: ^^^^^^^^^^^^^^^^^^^^^^^^^^^^^^^^^^^^^^^^^^^^^^^^^^^^^^^^^^^^^^^^^I wigsh you colud see your face\n",
      "expected: ^^^^^^^^^^^^^^^^^^^^^^^^^^^^^^^^^^^^^^^^^^^^^^^^^^^^^^^^^^^^^^^^^^I wish you could see your face\n",
      "output: ^^^^^^^^^^^^^^^^^^^^^^^^^^^^^^^^^^^^^^^^^^^^^^^^^^^^^^^^^^^^^^^^^^^I wish you cold see your face\n",
      "==============\n",
      "input: ^^^^^^^^^^^^^^^^^^^^^^^^^^^^^^^^^^^^^^^^^^^^^^^^^^^^^^^^Don't let it bother you If skies are ray\n",
      "expected: ^^^^^^^^^^^^^^^^^^^^^^^^^^^^^^^^^^^^^^^^^^^^^^^^^^^^^^^Don't let it bother you If skies are gray\n",
      "output: ^^^^^^^^^^^^^^^^^^^^^^^^^^^^^^^^^^^^^^^^^^^^^^^^^^^^^^^^Don't let it bother you If skies are ray\n",
      "==============\n",
      "input: ^^^^^^^^^^^^^^^^^^^^^^^^^^^^^^^^^^^^^^^^^^^^^^^^^^^^^^^^^Could Tarzan really caol more elephants\n",
      "expected: ^^^^^^^^^^^^^^^^^^^^^^^^^^^^^^^^^^^^^^^^^^^^^^^^^^^^^^^^^Could Tarzan really call more elephants\n",
      "output: ^^^^^^^^^^^^^^^^^^^^^^^^^^^^^^^^^^^^^^^^^^^^^^^^^^^^^^^^^Could Tarzan really caol more elephants\n",
      "==============\n",
      "input: ^^^^^^^^^^^^^^^^^^^^^^^^^^^^^^^^^^^^^^^^^^^^^^^^^^^^^^^^^I sugegst that you wait in the next rom\n",
      "expected: ^^^^^^^^^^^^^^^^^^^^^^^^^^^^^^^^^^^^^^^^^^^^^^^^^^^^^^^^I suggest that you wait in the next room\n",
      "output: ^^^^^^^^^^^^^^^^^^^^^^^^^^^^^^^^^^^^^^^^^^^^^^^^^^^^^^^^^I sugegst that you wait in the next rom\n",
      "==============\n",
      "input: ^^^^^^^^^^^^^^^^^^^^^^^^Suffeer the humlilaition of being taken for fops, fools, nitwits cowards\n",
      "expected: ^^^^^^^^^^^^^^^^^^^^^^^^^^Suffer the humiliation of being taken for fops, fools, nitwits cowards\n",
      "output: ^^^^^^^^^^^^^^^^^^^^^^^^Suffeer the humlilaition of being taken for fops, fools, nitwits cowards\n",
      "==============\n",
      "input: ^^^^^^^^^^^^^^^^^^^^^^^^^^^^^^^^^^^^^^^^^^^^^^^^^^^^^^^^^^^^^^^^^^^^^^^^^Everybody will be sleep\n",
      "expected: ^^^^^^^^^^^^^^^^^^^^^^^^^^^^^^^^^^^^^^^^^^^^^^^^^^^^^^^^^^^^^^^^^^^^^^^^Everybody will be asleep\n",
      "output: ^^^^^^^^^^^^^^^^^^^^^^^^^^^^^^^^^^^^^^^^^^^^^^^^^^^^^^^^^^^^^^^^^^^^^^^^^Everybody will be sleep\n",
      "==============\n",
      "input: ^^^^^^^^^^^^^^^^^^^^^^^^^^^^^^^^^^^^^^^^^^^^^^^^^^^^^^^^^^^^^^^^^^^^^^Oliver, call the rehearsal\n",
      "expected: ^^^^^^^^^^^^^^^^^^^^^^^^^^^^^^^^^^^^^^^^^^^^^^^^^^^^^^^^^^^^^^^^^^^^^^Oliver, call the rehearsal\n",
      "output: ^^^^^^^^^^^^^^^^^^^^^^^^^^^^^^^^^^^^^^^^^^^^^^^^^^^^^^^^^^^^^^^^^^^^^^Oliver, call the rehearsal\n",
      "==============\n",
      "input: ^^^^^^^^^^^^^^^^^^^^^^^^^^^^^^^^^^^^^^^^^^^^^^^^^^^^^^^^^An exrtemly interesting and capable man\n",
      "expected: ^^^^^^^^^^^^^^^^^^^^^^^^^^^^^^^^^^^^^^^^^^^^^^^^^^^^^^^^^An extremely interesting and capable ma\n",
      "output: ^^^^^^^^^^^^^^^^^^^^^^^^^^^^^^^^^^^^^^^^^^^^^^^^^^^^^^^^^^An fertemly interesting and capable ma\n",
      "==============\n"
     ]
    }
   ],
   "source": [
    "nmt.test_by_printing(50, prep.list_of_features)"
   ]
  },
  {
   "cell_type": "code",
   "execution_count": null,
   "metadata": {},
   "outputs": [],
   "source": []
  }
 ],
 "metadata": {
  "kernelspec": {
   "display_name": "projectname",
   "language": "python",
   "name": "projectname"
  },
  "language_info": {
   "codemirror_mode": {
    "name": "ipython",
    "version": 3
   },
   "file_extension": ".py",
   "mimetype": "text/x-python",
   "name": "python",
   "nbconvert_exporter": "python",
   "pygments_lexer": "ipython3",
   "version": "3.5.2"
  }
 },
 "nbformat": 4,
 "nbformat_minor": 2
}
