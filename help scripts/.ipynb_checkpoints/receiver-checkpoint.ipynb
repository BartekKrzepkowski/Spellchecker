{
 "cells": [
  {
   "cell_type": "code",
   "execution_count": 1,
   "metadata": {},
   "outputs": [],
   "source": [
    "%load_ext autoreload\n",
    "%autoreload 2"
   ]
  },
  {
   "cell_type": "code",
   "execution_count": 2,
   "metadata": {},
   "outputs": [],
   "source": [
    "import dill\n",
    "import sys\n",
    "sys.path.insert(0, 'code')"
   ]
  },
  {
   "cell_type": "markdown",
   "metadata": {},
   "source": [
    "### Get Neural Network data"
   ]
  },
  {
   "cell_type": "code",
   "execution_count": 8,
   "metadata": {},
   "outputs": [],
   "source": [
    "from preprocessing import get_bigrams_from_sentences_given_in_lines, get_trigrams_from_sentences_given_in_lines, file_filter\n",
    "from error_generator_const_nb import get_train_data"
   ]
  },
  {
   "cell_type": "code",
   "execution_count": 4,
   "metadata": {},
   "outputs": [],
   "source": [
    "# PATH = \"../NN/RNN/OpenSubtitles2016.txt\"\n",
    "PATH2 = \"../../NN/RNN/OpenSubtitles2016_FILTERED.txt\"\n",
    "PATH3 = \"../../NN/RNN/OpenSubtitles2016_FILTERED_final_90_high_boundry.txt\""
   ]
  },
  {
   "cell_type": "code",
   "execution_count": 5,
   "metadata": {},
   "outputs": [],
   "source": [
    "file_filter(PATH2, PATH3, high_boundry=90, is_lower=False)"
   ]
  },
  {
   "cell_type": "code",
   "execution_count": null,
   "metadata": {},
   "outputs": [],
   "source": [
    "PATH_TO_TRAIN_DATA = \"../../NN/RNN/OpenSubtitles2016_text_to_train2.txt\"\n",
    "get_train_data(PATH_TO_TRAIN_DATA, \"desire_train_data.txt\", sep=\"@\")"
   ]
  },
  {
   "cell_type": "markdown",
   "metadata": {},
   "source": [
    "### Get grams"
   ]
  },
  {
   "cell_type": "code",
   "execution_count": null,
   "metadata": {},
   "outputs": [],
   "source": [
    "from preprocessing import get_bigrams_from_sentences_given_in_lines, get_trigrams_from_sentences_given_in_lines, file_filter"
   ]
  },
  {
   "cell_type": "code",
   "execution_count": null,
   "metadata": {},
   "outputs": [],
   "source": [
    "PATH = \"../../../Corpora/TO_CREATE_VALID_UTTERANCE/movies/chosen/OpenSubtitles2016_tri_15m.txt\""
   ]
  },
  {
   "cell_type": "code",
   "execution_count": null,
   "metadata": {},
   "outputs": [],
   "source": [
    "%%time\n",
    "bi_gramed = get_bigrams_from_sentences_given_in_lines(PATH, 2, 1000000000)"
   ]
  },
  {
   "cell_type": "code",
   "execution_count": null,
   "metadata": {},
   "outputs": [],
   "source": [
    "with open(\"bigrams_final_encoded.pkl\", \"bw\") as f:\n",
    "    dill.dump(bi_gramed, f)"
   ]
  },
  {
   "cell_type": "code",
   "execution_count": null,
   "metadata": {},
   "outputs": [],
   "source": [
    "%%time\n",
    "tri_gramed = get_trigrams_from_sentences_given_in_lines(PATH, 3, 1000000000)"
   ]
  },
  {
   "cell_type": "code",
   "execution_count": null,
   "metadata": {},
   "outputs": [],
   "source": [
    "with open(\"trigrams_final_encoded.pkl\", \"bw\") as f:\n",
    "    dill.dump(tri_gramed, f)"
   ]
  }
 ],
 "metadata": {
  "kernelspec": {
   "display_name": "Python 3",
   "language": "python",
   "name": "python3"
  },
  "language_info": {
   "codemirror_mode": {
    "name": "ipython",
    "version": 3
   },
   "file_extension": ".py",
   "mimetype": "text/x-python",
   "name": "python",
   "nbconvert_exporter": "python",
   "pygments_lexer": "ipython3",
   "version": "3.5.2"
  }
 },
 "nbformat": 4,
 "nbformat_minor": 2
}
