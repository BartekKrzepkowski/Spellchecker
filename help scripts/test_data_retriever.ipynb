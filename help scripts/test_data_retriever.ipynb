{
 "cells": [
  {
   "cell_type": "code",
   "execution_count": null,
   "metadata": {},
   "outputs": [],
   "source": [
    "%load_ext autoreload\n",
    "%autoreload 2\n",
    "from pandas import DataFrame\n",
    "from collections import defaultdict"
   ]
  },
  {
   "cell_type": "code",
   "execution_count": null,
   "metadata": {},
   "outputs": [],
   "source": [
    "from preprocessing import get_bigrams_from_sentences_given_in_lines, file_filter, get_trigrams_from_sentences_given_in_lines"
   ]
  },
  {
   "cell_type": "code",
   "execution_count": null,
   "metadata": {},
   "outputs": [],
   "source": [
    "PATH = \"../../../Corpora/TO_CREATE_VALID_UTTERANCE/movies/chosen/to_clean/\"\n",
    "PATH1 = PATH + \"OpenSubtitles2016_tail_milion_sample.txt\"\n",
    "PATH2 = PATH + \"NEW.txt\""
   ]
  },
  {
   "cell_type": "code",
   "execution_count": null,
   "metadata": {},
   "outputs": [],
   "source": [
    "from nltk.corpus import words\n",
    "vocab = words.words()\n",
    "vocab = [word for word in vocab if len(word)>3]"
   ]
  },
  {
   "cell_type": "code",
   "execution_count": null,
   "metadata": {},
   "outputs": [],
   "source": [
    "from create_test_data_for_context import create_test_data_for_bi_grams, create_test_data_for_tri_grams, bi_gram_filter, tri_gram_filter"
   ]
  },
  {
   "cell_type": "code",
   "execution_count": null,
   "metadata": {},
   "outputs": [],
   "source": [
    "file_filter(PATH1, PATH2)"
   ]
  },
  {
   "cell_type": "code",
   "execution_count": null,
   "metadata": {},
   "outputs": [],
   "source": [
    "bi_grams = get_bigrams_from_sentences_given_in_lines(PATH2, 2, 1000000)"
   ]
  },
  {
   "cell_type": "code",
   "execution_count": null,
   "metadata": {},
   "outputs": [],
   "source": [
    "new_bi_grams = bi_gram_filter(bi_grams)\n",
    "list_of_bi_grams = tuple([(w1, w2) for w1 in new_bi_grams for w2 in new_bi_grams[w1]])"
   ]
  },
  {
   "cell_type": "code",
   "execution_count": null,
   "metadata": {},
   "outputs": [],
   "source": [
    "dd2 = create_test_data_for_bi_grams(list_of_bi_grams)\n",
    "dd2.to_csv(\"bi_grams_test_data.csv\", index=False)\n",
    "len(list_of_bi_grams)"
   ]
  },
  {
   "cell_type": "code",
   "execution_count": null,
   "metadata": {},
   "outputs": [],
   "source": []
  },
  {
   "cell_type": "code",
   "execution_count": null,
   "metadata": {},
   "outputs": [],
   "source": [
    "tri_grams = get_trigrams_from_sentences_given_in_lines(PATH2, 3, 1000000)"
   ]
  },
  {
   "cell_type": "code",
   "execution_count": null,
   "metadata": {},
   "outputs": [],
   "source": [
    "new_tri_grams = tri_gram_filter(tri_grams, vocab)\n",
    "list_of_tri_grams = tuple([(w1, w2, w3) for w1 in new_tri_grams for w2 in new_tri_grams[w1] for w3 in new_tri_grams[w1][w2]])"
   ]
  },
  {
   "cell_type": "code",
   "execution_count": null,
   "metadata": {},
   "outputs": [],
   "source": [
    "dd3 = create_test_data_for_tri_grams(list_of_tri_grams)\n",
    "dd3.to_csv(\"tri_grams_test_data.csv\", index=False)\n",
    "len(list_of_tri_grams)"
   ]
  },
  {
   "cell_type": "code",
   "execution_count": null,
   "metadata": {},
   "outputs": [],
   "source": [
    "import pickle"
   ]
  },
  {
   "cell_type": "code",
   "execution_count": null,
   "metadata": {},
   "outputs": [],
   "source": [
    "with open(\"ls_of_trigrams.pkl\", \"bw\") as f:\n",
    "    pickle.dump(list_of_bi_grams, f)"
   ]
  },
  {
   "cell_type": "code",
   "execution_count": null,
   "metadata": {},
   "outputs": [],
   "source": [
    "with open(\"ls_of_trigrams.pkl\", \"br\") as f:\n",
    "    list_of_bi_grams = pickle.load(f)"
   ]
  },
  {
   "cell_type": "code",
   "execution_count": null,
   "metadata": {},
   "outputs": [],
   "source": []
  },
  {
   "cell_type": "code",
   "execution_count": null,
   "metadata": {},
   "outputs": [],
   "source": []
  }
 ],
 "metadata": {
  "kernelspec": {
   "display_name": "Python 3",
   "language": "python",
   "name": "python3"
  },
  "language_info": {
   "codemirror_mode": {
    "name": "ipython",
    "version": 3
   },
   "file_extension": ".py",
   "mimetype": "text/x-python",
   "name": "python",
   "nbconvert_exporter": "python",
   "pygments_lexer": "ipython3",
   "version": "3.5.2"
  }
 },
 "nbformat": 4,
 "nbformat_minor": 2
}
